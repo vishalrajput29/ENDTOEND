{
 "cells": [
  {
   "cell_type": "code",
   "execution_count": null,
   "metadata": {},
   "outputs": [],
   "source": [
    "import joblib\n",
    "from statsmodels.tsa.arima.model import ARIMA\n",
    "import pandas as pd\n",
    "\n",
    "# Assuming you already have the dataset loaded into a DataFrame\n",
    "# Example for training an ARIMA model\n",
    "df = pd.read_csv('UPLOAD_FOLDER\\water_quality_data_large (1).csv')  # Use your dataset here\n",
    "model = ARIMA(df['WQI'], order=(1, 1, 1))  # Adjust the order to your needs\n",
    "model_fit = model.fit()\n",
    "import pickle\n",
    "# Save the model to a pickle file\n",
    "with open('arima_model.pkl1', 'wb') as file:\n",
    "    pickle.dump(model_fit, file)\n",
    "\n",
    "print(\"Model saved successfully.\")"
   ]
  },
  {
   "cell_type": "code",
   "execution_count": 3,
   "metadata": {},
   "outputs": [
    {
     "data": {
      "text/html": [
       "<div>\n",
       "<style scoped>\n",
       "    .dataframe tbody tr th:only-of-type {\n",
       "        vertical-align: middle;\n",
       "    }\n",
       "\n",
       "    .dataframe tbody tr th {\n",
       "        vertical-align: top;\n",
       "    }\n",
       "\n",
       "    .dataframe thead th {\n",
       "        text-align: right;\n",
       "    }\n",
       "</style>\n",
       "<table border=\"1\" class=\"dataframe\">\n",
       "  <thead>\n",
       "    <tr style=\"text-align: right;\">\n",
       "      <th></th>\n",
       "      <th>Date</th>\n",
       "      <th>Temperature (°C)</th>\n",
       "      <th>Turbidity (NTU)</th>\n",
       "      <th>pH Level</th>\n",
       "      <th>TDS (mg/L)</th>\n",
       "      <th>WQI</th>\n",
       "    </tr>\n",
       "  </thead>\n",
       "  <tbody>\n",
       "    <tr>\n",
       "      <th>0</th>\n",
       "      <td>2024-12-01</td>\n",
       "      <td>26.148803</td>\n",
       "      <td>13.566791</td>\n",
       "      <td>6.634153</td>\n",
       "      <td>420.769613</td>\n",
       "      <td>34.595212</td>\n",
       "    </tr>\n",
       "    <tr>\n",
       "      <th>1</th>\n",
       "      <td>2024-12-02</td>\n",
       "      <td>27.921826</td>\n",
       "      <td>1.158973</td>\n",
       "      <td>7.999921</td>\n",
       "      <td>282.381046</td>\n",
       "      <td>32.878017</td>\n",
       "    </tr>\n",
       "    <tr>\n",
       "      <th>2</th>\n",
       "      <td>2024-12-03</td>\n",
       "      <td>16.360069</td>\n",
       "      <td>4.573966</td>\n",
       "      <td>6.919811</td>\n",
       "      <td>880.499302</td>\n",
       "      <td>42.024719</td>\n",
       "    </tr>\n",
       "    <tr>\n",
       "      <th>3</th>\n",
       "      <td>2024-12-04</td>\n",
       "      <td>12.201038</td>\n",
       "      <td>14.280967</td>\n",
       "      <td>8.296109</td>\n",
       "      <td>854.511214</td>\n",
       "      <td>70.102620</td>\n",
       "    </tr>\n",
       "    <tr>\n",
       "      <th>4</th>\n",
       "      <td>2024-12-05</td>\n",
       "      <td>14.558703</td>\n",
       "      <td>13.408825</td>\n",
       "      <td>6.910279</td>\n",
       "      <td>473.259527</td>\n",
       "      <td>30.000000</td>\n",
       "    </tr>\n",
       "    <tr>\n",
       "      <th>...</th>\n",
       "      <td>...</td>\n",
       "      <td>...</td>\n",
       "      <td>...</td>\n",
       "      <td>...</td>\n",
       "      <td>...</td>\n",
       "      <td>...</td>\n",
       "    </tr>\n",
       "    <tr>\n",
       "      <th>360</th>\n",
       "      <td>2025-11-26</td>\n",
       "      <td>22.587973</td>\n",
       "      <td>6.512050</td>\n",
       "      <td>7.352363</td>\n",
       "      <td>295.714556</td>\n",
       "      <td>37.047252</td>\n",
       "    </tr>\n",
       "    <tr>\n",
       "      <th>361</th>\n",
       "      <td>2025-11-27</td>\n",
       "      <td>23.914974</td>\n",
       "      <td>1.737570</td>\n",
       "      <td>7.402774</td>\n",
       "      <td>223.638586</td>\n",
       "      <td>13.587257</td>\n",
       "    </tr>\n",
       "    <tr>\n",
       "      <th>362</th>\n",
       "      <td>2025-11-28</td>\n",
       "      <td>19.090821</td>\n",
       "      <td>14.954677</td>\n",
       "      <td>6.827248</td>\n",
       "      <td>841.971500</td>\n",
       "      <td>43.678860</td>\n",
       "    </tr>\n",
       "    <tr>\n",
       "      <th>363</th>\n",
       "      <td>2025-11-29</td>\n",
       "      <td>22.551162</td>\n",
       "      <td>7.781828</td>\n",
       "      <td>8.089619</td>\n",
       "      <td>807.094036</td>\n",
       "      <td>64.076143</td>\n",
       "    </tr>\n",
       "    <tr>\n",
       "      <th>364</th>\n",
       "      <td>2025-11-30</td>\n",
       "      <td>21.686286</td>\n",
       "      <td>9.133083</td>\n",
       "      <td>7.887364</td>\n",
       "      <td>746.697413</td>\n",
       "      <td>57.615186</td>\n",
       "    </tr>\n",
       "  </tbody>\n",
       "</table>\n",
       "<p>365 rows × 6 columns</p>\n",
       "</div>"
      ],
      "text/plain": [
       "           Date  Temperature (°C)  Turbidity (NTU)  pH Level  TDS (mg/L)  \\\n",
       "0    2024-12-01         26.148803        13.566791  6.634153  420.769613   \n",
       "1    2024-12-02         27.921826         1.158973  7.999921  282.381046   \n",
       "2    2024-12-03         16.360069         4.573966  6.919811  880.499302   \n",
       "3    2024-12-04         12.201038        14.280967  8.296109  854.511214   \n",
       "4    2024-12-05         14.558703        13.408825  6.910279  473.259527   \n",
       "..          ...               ...              ...       ...         ...   \n",
       "360  2025-11-26         22.587973         6.512050  7.352363  295.714556   \n",
       "361  2025-11-27         23.914974         1.737570  7.402774  223.638586   \n",
       "362  2025-11-28         19.090821        14.954677  6.827248  841.971500   \n",
       "363  2025-11-29         22.551162         7.781828  8.089619  807.094036   \n",
       "364  2025-11-30         21.686286         9.133083  7.887364  746.697413   \n",
       "\n",
       "           WQI  \n",
       "0    34.595212  \n",
       "1    32.878017  \n",
       "2    42.024719  \n",
       "3    70.102620  \n",
       "4    30.000000  \n",
       "..         ...  \n",
       "360  37.047252  \n",
       "361  13.587257  \n",
       "362  43.678860  \n",
       "363  64.076143  \n",
       "364  57.615186  \n",
       "\n",
       "[365 rows x 6 columns]"
      ]
     },
     "execution_count": 3,
     "metadata": {},
     "output_type": "execute_result"
    }
   ],
   "source": [
    "df"
   ]
  },
  {
   "cell_type": "code",
   "execution_count": 4,
   "metadata": {},
   "outputs": [
    {
     "name": "stdout",
     "output_type": "stream",
     "text": [
      "Model saved successfully.\n"
     ]
    }
   ],
   "source": [
    "# Save the model to a pickle file\n",
    "with open('arima_model.pkl1', 'wb') as file:\n",
    "    pickle.dump(model_fit, file)\n",
    "\n",
    "print(\"Model saved successfully.\")"
   ]
  },
  {
   "cell_type": "code",
   "execution_count": 5,
   "metadata": {},
   "outputs": [
    {
     "name": "stdout",
     "output_type": "stream",
     "text": [
      "                               SARIMAX Results                                \n",
      "==============================================================================\n",
      "Dep. Variable:                    WQI   No. Observations:                  365\n",
      "Model:                 ARIMA(1, 1, 1)   Log Likelihood               -1543.467\n",
      "Date:                Sun, 08 Dec 2024   AIC                           3092.934\n",
      "Time:                        15:59:20   BIC                           3104.625\n",
      "Sample:                             0   HQIC                          3097.580\n",
      "                                - 365                                         \n",
      "Covariance Type:                  opg                                         \n",
      "==============================================================================\n",
      "                 coef    std err          z      P>|z|      [0.025      0.975]\n",
      "------------------------------------------------------------------------------\n",
      "ar.L1          0.0525      0.054      0.973      0.331      -0.053       0.158\n",
      "ma.L1         -0.9898      0.010    -94.715      0.000      -1.010      -0.969\n",
      "sigma2       279.2962     23.845     11.713      0.000     232.561     326.032\n",
      "===================================================================================\n",
      "Ljung-Box (L1) (Q):                   0.01   Jarque-Bera (JB):                 3.21\n",
      "Prob(Q):                              0.91   Prob(JB):                         0.20\n",
      "Heteroskedasticity (H):               1.07   Skew:                            -0.06\n",
      "Prob(H) (two-sided):                  0.70   Kurtosis:                         2.56\n",
      "===================================================================================\n",
      "\n",
      "Warnings:\n",
      "[1] Covariance matrix calculated using the outer product of gradients (complex-step).\n"
     ]
    }
   ],
   "source": [
    "# Load the ARIMA model from the pickle file\n",
    "with open('arima_model.pkl1', 'rb') as file:\n",
    "    loaded_model = pickle.load(file)\n",
    "\n",
    "# Use the loaded model\n",
    "print(loaded_model.summary())\n"
   ]
  },
  {
   "cell_type": "code",
   "execution_count": 6,
   "metadata": {},
   "outputs": [
    {
     "name": "stdout",
     "output_type": "stream",
     "text": [
      "Model saved successfully.\n"
     ]
    }
   ],
   "source": [
    "# Save the model to a pickle file\n",
    "with open('model.pkl1', 'wb') as file:\n",
    "    pickle.dump(model_fit, file)\n",
    "\n",
    "print(\"Model saved successfully.\")"
   ]
  },
  {
   "cell_type": "code",
   "execution_count": 8,
   "metadata": {},
   "outputs": [],
   "source": [
    "import pandas as pd\n",
    "import numpy as np\n",
    "from sklearn.metrics import mean_absolute_error, mean_squared_error, mean_absolute_percentage_error\n",
    "from statsmodels.tsa.arima.model import ARIMA\n",
    "import matplotlib.pyplot as plt"
   ]
  },
  {
   "cell_type": "code",
   "execution_count": 11,
   "metadata": {},
   "outputs": [],
   "source": [
    "train_size = int(len(df) * 0.8)  # 80% for training\n",
    "train, test = df[:train_size], df[train_size:]"
   ]
  },
  {
   "cell_type": "code",
   "execution_count": 12,
   "metadata": {},
   "outputs": [],
   "source": [
    "# Forecast the test set\n",
    "forecast = model_fit.forecast(steps=len(test))"
   ]
  },
  {
   "cell_type": "code",
   "execution_count": 13,
   "metadata": {},
   "outputs": [
    {
     "data": {
      "text/plain": [
       "365    50.027062\n",
       "366    49.628395\n",
       "367    49.607449\n",
       "368    49.606349\n",
       "369    49.606291\n",
       "         ...    \n",
       "433    49.606288\n",
       "434    49.606288\n",
       "435    49.606288\n",
       "436    49.606288\n",
       "437    49.606288\n",
       "Name: predicted_mean, Length: 73, dtype: float64"
      ]
     },
     "execution_count": 13,
     "metadata": {},
     "output_type": "execute_result"
    }
   ],
   "source": [
    "forecast"
   ]
  },
  {
   "cell_type": "code",
   "execution_count": 14,
   "metadata": {},
   "outputs": [],
   "source": [
    "# Actual values (from test set)\n",
    "actual = test['WQI'].values"
   ]
  },
  {
   "cell_type": "code",
   "execution_count": 15,
   "metadata": {},
   "outputs": [
    {
     "data": {
      "text/plain": [
       "array([72.51331973, 54.94548227, 49.27646127, 75.14519945, 68.62196391,\n",
       "       59.97122104, 54.02326916, 40.8804821 , 51.66084257, 70.54897312,\n",
       "       67.89885847, 47.20563087, 64.74445513, 33.03563067, 50.        ,\n",
       "       68.31607248, 54.87374111,  7.43487037, 53.03267002, 30.92085054,\n",
       "       33.69635277, 69.74033025, 39.56645107, 53.17098893, 48.53733937,\n",
       "       62.69354106, 30.        , 36.02348939, 44.67707674, 78.1786134 ,\n",
       "       60.51725524, 30.39214324, 37.95536634, 73.74115185, 70.07390091,\n",
       "       20.76981019, 50.4411161 , 61.65066315, 68.0332593 , 53.67488664,\n",
       "       55.31393741, 41.99480325, 43.32605502, 77.48913949, 29.5799017 ,\n",
       "       50.        , 52.03854268, 48.32688355, 30.        , 55.72605796,\n",
       "       38.27646107, 64.83662071, 66.97380388, 47.67410191, 58.93955877,\n",
       "       69.03226604, 35.41815805, 67.05780316, 55.28005798, 62.29230211,\n",
       "       30.        , 57.19023085, 45.61643477, 51.71781893, 47.33181506,\n",
       "       40.92246945, 68.4892695 , 42.30205165, 37.04725209, 13.58725738,\n",
       "       43.67886002, 64.07614339, 57.61518554])"
      ]
     },
     "execution_count": 15,
     "metadata": {},
     "output_type": "execute_result"
    }
   ],
   "source": [
    "actual"
   ]
  },
  {
   "cell_type": "code",
   "execution_count": 16,
   "metadata": {},
   "outputs": [
    {
     "name": "stdout",
     "output_type": "stream",
     "text": [
      "Mean Absolute Error (MAE): 12.475549358748937\n",
      "Mean Squared Error (MSE): 234.95466260746565\n",
      "Root Mean Squared Error (RMSE): 15.328230902731915\n",
      "Mean Absolute Percentage Error (MAPE): 0.35309788752029464\n"
     ]
    }
   ],
   "source": [
    "# Calculate forecast accuracy metrics\n",
    "mae = mean_absolute_error(actual, forecast)\n",
    "mse = mean_squared_error(actual, forecast)\n",
    "rmse = np.sqrt(mse)\n",
    "mape = mean_absolute_percentage_error(actual, forecast)\n",
    "\n",
    "# Log the accuracy metrics\n",
    "print(f\"Mean Absolute Error (MAE): {mae}\")\n",
    "print(f\"Mean Squared Error (MSE): {mse}\")\n",
    "print(f\"Root Mean Squared Error (RMSE): {rmse}\")\n",
    "print(f\"Mean Absolute Percentage Error (MAPE): {mape}\")\n"
   ]
  },
  {
   "cell_type": "code",
   "execution_count": null,
   "metadata": {},
   "outputs": [],
   "source": []
  }
 ],
 "metadata": {
  "kernelspec": {
   "display_name": "Python 3",
   "language": "python",
   "name": "python3"
  },
  "language_info": {
   "codemirror_mode": {
    "name": "ipython",
    "version": 3
   },
   "file_extension": ".py",
   "mimetype": "text/x-python",
   "name": "python",
   "nbconvert_exporter": "python",
   "pygments_lexer": "ipython3",
   "version": "3.9.20"
  }
 },
 "nbformat": 4,
 "nbformat_minor": 2
}
